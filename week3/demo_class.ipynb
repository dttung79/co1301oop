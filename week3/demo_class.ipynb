{
 "cells": [
  {
   "cell_type": "markdown",
   "metadata": {},
   "source": [
    "# Class\n",
    "A group of similar objects that share the same attributes and methods.\n",
    "Attributes are variables that store data, describing the object of the class.\n",
    "Methods are functions that are associated with an object of the class.\n",
    "# Object\n",
    "Object is an instance of a class.\n",
    "Object has attributes defined by the class but values of the attributes can be different for different objects.\n",
    "Object can call methods defined by the class and it can function differently for different objects based on the values of the attributes."
   ]
  },
  {
   "cell_type": "code",
   "execution_count": 1,
   "metadata": {},
   "outputs": [],
   "source": [
    "# Example: define class student\n",
    "class Student:\n",
    "    def __init__(self, name, grade):    # this is a \"constructor\", which is called to create a new object\n",
    "        self.name = name    # self is a reference to the object itself\n",
    "        self.grade = grade  # self.name & self.grade are attributes of the object\n",
    "    \n",
    "    def show_info(self):    # method of a class always has self as its first parameter\n",
    "        # use self to refer to the attributes of the object\n",
    "        print(f'Student name: {self.name}, grade: {self.grade}') "
   ]
  },
  {
   "cell_type": "code",
   "execution_count": 2,
   "metadata": {},
   "outputs": [
    {
     "name": "stdout",
     "output_type": "stream",
     "text": [
      "John\n",
      "90\n",
      "Student name: John, grade: 90\n"
     ]
    }
   ],
   "source": [
    "# create an object from class Student\n",
    "john = Student('John', 90) # create a student object with name John and grade 90\n",
    "# access john's attributes directly\n",
    "print(john.name)    # John\n",
    "print(john.grade)   # 90\n",
    "# call john's method\n",
    "john.show_info()    # Student name: John, grade: 90"
   ]
  },
  {
   "cell_type": "code",
   "execution_count": 4,
   "metadata": {},
   "outputs": [
    {
     "name": "stdout",
     "output_type": "stream",
     "text": [
      "Car brand: Toyota, model: Camry, price: 25000\n",
      "Car brand: Toyota, model: Vios, price: 20000\n"
     ]
    }
   ],
   "source": [
    "# TODO: define a class Car with attributes: brand, model, price. Define method show_info to print out the car's info\n",
    "class Car:\n",
    "    def __init__(self, brand, model, price):\n",
    "        self.brand = brand\n",
    "        self.model = model\n",
    "        self.price = price\n",
    "    def show_info(self):\n",
    "        print(f'Car brand: {self.brand}, model: {self.model}, price: {self.price}')\n",
    "\n",
    "# create an object from class Car\n",
    "camry = Car('Toyota', 'Camry', 25000)\n",
    "camry.show_info()    # Car brand: Toyota, model: Camry, price: 25000\n",
    "vios = Car('Toyota', 'Vios', 20000)\n",
    "vios.show_info()    # Car brand: Toyota, model: Vios, price: 20000"
   ]
  },
  {
   "cell_type": "code",
   "execution_count": 6,
   "metadata": {},
   "outputs": [
    {
     "name": "stdout",
     "output_type": "stream",
     "text": [
      "78.5\n",
      "31.400000000000002\n",
      "Radius: 5, Area: 78.50, Perimeter: 31.40\n"
     ]
    }
   ],
   "source": [
    "# Example: Create a class Circle\n",
    "# attribute: radius\n",
    "# methods: show_info(), area(), perimeter()\n",
    "class Circle:\n",
    "    def __init__(self, radius):\n",
    "        self.radius = radius\n",
    "    \n",
    "    def area(self):\n",
    "        return 3.14 * self.radius ** 2\n",
    "    \n",
    "    def perimeter(self):\n",
    "        return 2 * 3.14 * self.radius\n",
    "    \n",
    "    def show_info(self):\n",
    "        print(f'Radius: {self.radius}, Area: {self.area():.2f}, Perimeter: {self.perimeter():.2f}')\n",
    "\n",
    "# create an object from class Circle\n",
    "o1 = Circle(5)\n",
    "print(o1.area())    # call method area() of object o1\n",
    "print(o1.perimeter())    # call method perimeter() of object o1\n",
    "o1.show_info()    # call method show_info() of object o1"
   ]
  },
  {
   "cell_type": "code",
   "execution_count": 14,
   "metadata": {},
   "outputs": [],
   "source": [
    "# TODO: create a class Rectangle\n",
    "class Rectangle:\n",
    "    def __init__(self, width=1, height=1): # use default values for width and height\n",
    "        self.width = width\n",
    "        self.height = height\n",
    "\n",
    "    def area(self):\n",
    "        return self.width * self.height\n",
    "    \n",
    "    def perimeter(self):\n",
    "        return 2 * (self.width + self.height)\n",
    "    \n",
    "    def show_info(self):\n",
    "        print(f'Rectangle {self.width}x{self.height}, Area: {self.area()}, Perimeter: {self.perimeter()}')\n",
    "\n",
    "    def draw(self):\n",
    "        # draw upper border\n",
    "        print('* ' * self.width)\n",
    "        # draw body\n",
    "        for i in range(self.height - 2):\n",
    "            print('* ' + '  ' * (self.width - 2) + '* ')\n",
    "        # draw lower border\n",
    "        print('* ' * self.width)\n",
    "        "
   ]
  },
  {
   "cell_type": "code",
   "execution_count": 15,
   "metadata": {},
   "outputs": [
    {
     "name": "stdout",
     "output_type": "stream",
     "text": [
      "Rectangle 4x5, Area: 20, Perimeter: 18\n",
      "* * * * \n",
      "*     * \n",
      "*     * \n",
      "*     * \n",
      "* * * * \n",
      "Rectangle 1x1, Area: 1, Perimeter: 4\n"
     ]
    }
   ],
   "source": [
    "abcd = Rectangle(4, 5) # call constructor with width=4, height=5\n",
    "abcd.show_info()\n",
    "abcd.draw()\n",
    "\n",
    "mnpq = Rectangle() # call constructor without parameter, use default values\n",
    "mnpq.show_info()"
   ]
  },
  {
   "cell_type": "code",
   "execution_count": 16,
   "metadata": {},
   "outputs": [],
   "source": [
    "# A class that contains objects of other class\n",
    "class ClassRoom:\n",
    "    def __init__(self, name):\n",
    "        self.name = name\n",
    "        self.students = []  # create an empty list of students\n",
    "    \n",
    "    def add_student(self, st):\n",
    "        self.students.append(st)\n",
    "        print(f'Student {st.name} added to class {self.name}.')\n",
    "\n",
    "    def show_students(self):\n",
    "        # validate length of students first (defensive programming)\n",
    "        if len(self.students) == 0:\n",
    "            print(f'No student in class {self.name}')\n",
    "            return\n",
    "        \n",
    "        print(f'List of all students in class {self.name}')\n",
    "        for st in self.students:\n",
    "            st.show_info()  # call method show_info of each Student object"
   ]
  },
  {
   "cell_type": "code",
   "execution_count": 17,
   "metadata": {},
   "outputs": [
    {
     "name": "stdout",
     "output_type": "stream",
     "text": [
      "Student John added to class CO1301.\n",
      "Student Paul added to class CO1301.\n",
      "Student Mike added to class CO1301.\n",
      "List of all students in class CO1301\n",
      "Student name: John, grade: 89\n",
      "Student name: Paul, grade: 77\n",
      "Student name: Mike, grade: 70\n"
     ]
    }
   ],
   "source": [
    "john = Student('John', 89)\n",
    "paul = Student('Paul', 77)\n",
    "mike = Student('Mike', 70)\n",
    "\n",
    "co1301 = ClassRoom('CO1301')\n",
    "co1301.add_student(john)\n",
    "co1301.add_student(paul)\n",
    "co1301.add_student(mike)\n",
    "\n",
    "co1301.show_students()"
   ]
  },
  {
   "cell_type": "code",
   "execution_count": 18,
   "metadata": {},
   "outputs": [],
   "source": [
    "class Pet:\n",
    "    def __init__(self, name, kind, age):\n",
    "        self.name = name\n",
    "        self.kind = kind\n",
    "        self.age = age\n",
    "\n",
    "    def show(self):\n",
    "        print(f'{self.kind}: {self.name} {self.age} years old.')"
   ]
  },
  {
   "cell_type": "code",
   "execution_count": 19,
   "metadata": {},
   "outputs": [
    {
     "name": "stdout",
     "output_type": "stream",
     "text": [
      "Dog: Kiki 2 years old.\n"
     ]
    }
   ],
   "source": [
    "kiki = Pet('Kiki', 'Dog', 2)\n",
    "kiki.show()"
   ]
  },
  {
   "cell_type": "code",
   "execution_count": 20,
   "metadata": {},
   "outputs": [],
   "source": [
    "class Owner:\n",
    "    def __init__(self, name):\n",
    "        self.name = name\n",
    "        self.pets = []\n",
    "    \n",
    "    def buy_new(self, p):\n",
    "        self.pets.append(p)\n",
    "        print(f'Just bought a new pet {p.name}')\n",
    "\n",
    "    def show_pets(self):\n",
    "        if len(self.pets) == 0:\n",
    "            print(f'Sadly I have no pet.')\n",
    "            return\n",
    "        \n",
    "        print(f'I am {self.name}. Here are all my pets:')\n",
    "        for p in self.pets:\n",
    "            p.show()"
   ]
  },
  {
   "cell_type": "code",
   "execution_count": 21,
   "metadata": {},
   "outputs": [
    {
     "name": "stdout",
     "output_type": "stream",
     "text": [
      "Sadly I have no pet.\n",
      "Just bought a new pet Kiki\n",
      "Just bought a new pet Tom\n",
      "I am John. Here are all my pets:\n",
      "Dog: Kiki 2 years old.\n",
      "Cat: Tom 5 years old.\n"
     ]
    }
   ],
   "source": [
    "tom = Pet('Tom', 'Cat', 5)\n",
    "john = Owner('John')\n",
    "john.show_pets() # no pet right now\n",
    "\n",
    "john.buy_new(kiki)\n",
    "john.buy_new(tom)\n",
    "john.show_pets()"
   ]
  }
 ],
 "metadata": {
  "kernelspec": {
   "display_name": "Python 3",
   "language": "python",
   "name": "python3"
  },
  "language_info": {
   "codemirror_mode": {
    "name": "ipython",
    "version": 3
   },
   "file_extension": ".py",
   "mimetype": "text/x-python",
   "name": "python",
   "nbconvert_exporter": "python",
   "pygments_lexer": "ipython3",
   "version": "3.12.4"
  }
 },
 "nbformat": 4,
 "nbformat_minor": 2
}
