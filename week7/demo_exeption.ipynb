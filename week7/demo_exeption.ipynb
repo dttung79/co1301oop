{
 "cells": [
  {
   "cell_type": "code",
   "execution_count": null,
   "metadata": {},
   "outputs": [],
   "source": [
    "# Exception happens when the program is running and something goes wrong that the program can't handle\n",
    "# For example: divide by zero, open a file that doesn't exist, etc"
   ]
  },
  {
   "cell_type": "code",
   "execution_count": null,
   "metadata": {},
   "outputs": [],
   "source": [
    "a = int(input('Enter a: '))\n",
    "b = int(input('Enter b: '))\n",
    "c = a / b   # if b = 0, it will raise an exception: ZeroDivisionError\n",
    "print(f'{a} / {b} = {c}')"
   ]
  },
  {
   "cell_type": "code",
   "execution_count": null,
   "metadata": {},
   "outputs": [],
   "source": [
    "a = int(input('Enter a: ')) # if input is not a number, it will raise an exception: ValueError\n",
    "print(f'a = {a}')"
   ]
  },
  {
   "cell_type": "code",
   "execution_count": null,
   "metadata": {},
   "outputs": [],
   "source": [
    "a = [1, 2, 3]\n",
    "i = int(input('Enter an index: '))\n",
    "print(f'a[{i}] = {a[i]}')   # if i is out of range, it will raise an exception: IndexError"
   ]
  },
  {
   "cell_type": "code",
   "execution_count": 17,
   "metadata": {},
   "outputs": [
    {
     "name": "stdout",
     "output_type": "stream",
     "text": [
      "Cannot divide by zero\n"
     ]
    }
   ],
   "source": [
    "# To handle exceptions, we use try-except block\n",
    "try:\n",
    "    a = int(input('Enter a: '))\n",
    "    b = int(input('Enter b: '))\n",
    "    c = a / b\n",
    "    print(f'{a} / {b} = {c}')\n",
    "except ZeroDivisionError:\n",
    "    print('Cannot divide by zero')"
   ]
  },
  {
   "cell_type": "code",
   "execution_count": 18,
   "metadata": {},
   "outputs": [
    {
     "name": "stdout",
     "output_type": "stream",
     "text": [
      "Invalid input. Must be an integer\n",
      "Index out of range\n"
     ]
    }
   ],
   "source": [
    "# Use try-except to handle ValueError\n",
    "try:\n",
    "    a = int(input('Enter a: '))\n",
    "    print(f'a = {a}')\n",
    "except ValueError:\n",
    "    print('Invalid input. Must be an integer')\n",
    "\n",
    "# Use try-except to handle IndexError\n",
    "try:\n",
    "    a = [1, 2, 3]\n",
    "    i = int(input('Enter an index: '))\n",
    "    print(f'a[{i}] = {a[i]}')\n",
    "except IndexError:\n",
    "    print('Index out of range')\n",
    "    "
   ]
  },
  {
   "cell_type": "code",
   "execution_count": null,
   "metadata": {},
   "outputs": [],
   "source": [
    "# one try can have multiple except blocks corresponding to different exceptions\n",
    "try:\n",
    "    a = [1, 2, 3, 4]\n",
    "    i = int(input('Enter an index i: ')) \n",
    "    j = int(input('Enter an index j: ')) \n",
    "    print(f'a[{i}] = {a[i]}')\n",
    "    print(f'a[{j}] = {a[j]}')\n",
    "    print(f'a[{i}] / a[{j}] = {a[i] / a[j]}')\n",
    "except ValueError:\n",
    "    print('Invalid input. Must be an integer')\n",
    "except IndexError:\n",
    "    print('Index out of range')\n",
    "except ZeroDivisionError:\n",
    "    print('Cannot divide by zero')"
   ]
  },
  {
   "cell_type": "code",
   "execution_count": 19,
   "metadata": {},
   "outputs": [
    {
     "name": "stdout",
     "output_type": "stream",
     "text": [
      "Invalid input. Must be an integer\n",
      "Invalid input. Must be an integer\n",
      "Invalid input. Must be an integer\n",
      "a = 12244\n"
     ]
    }
   ],
   "source": [
    "# using exception so user can redo the input\n",
    "invalid = True\n",
    "while invalid:\n",
    "    try:\n",
    "        a = int(input('Enter a: '))\n",
    "        invalid = False\n",
    "    except ValueError:\n",
    "        print('Invalid input. Must be an integer')\n",
    "print(f'a = {a}')"
   ]
  },
  {
   "cell_type": "code",
   "execution_count": 23,
   "metadata": {},
   "outputs": [],
   "source": [
    "# using exception to validate attribute in Class\n",
    "class Person:\n",
    "    def __init__(self, name, age):\n",
    "        self.name = name\n",
    "        self.age = age\n",
    "    \n",
    "    @property\n",
    "    def name(self):\n",
    "        return self._name\n",
    "    \n",
    "    @name.setter\n",
    "    def name(self, value):\n",
    "        if value == '':\n",
    "            raise ValueError('Name cannot be empty')\n",
    "        self._name = value\n",
    "    \n",
    "    @property\n",
    "    def age(self):\n",
    "        return self._age\n",
    "    \n",
    "    @age.setter\n",
    "    def age(self, value):\n",
    "        if value < 0:\n",
    "            raise ValueError('Age cannot be negative')\n",
    "        self._age = value\n",
    "\n",
    "    def show(self):\n",
    "        print(f'Name: {self.name}, Age: {self.age}')"
   ]
  },
  {
   "cell_type": "code",
   "execution_count": null,
   "metadata": {},
   "outputs": [
    {
     "name": "stdout",
     "output_type": "stream",
     "text": [
      "Age cannot be negative\n"
     ]
    }
   ],
   "source": [
    "try:\n",
    "    name = input('Enter name: ')\n",
    "    age = int(input('Enter age: '))\n",
    "    p = Person(name, age)\n",
    "    p.show()\n",
    "except ValueError as e:\n",
    "    print(e)"
   ]
  },
  {
   "cell_type": "code",
   "execution_count": null,
   "metadata": {},
   "outputs": [],
   "source": []
  }
 ],
 "metadata": {
  "kernelspec": {
   "display_name": "Python 3",
   "language": "python",
   "name": "python3"
  },
  "language_info": {
   "codemirror_mode": {
    "name": "ipython",
    "version": 3
   },
   "file_extension": ".py",
   "mimetype": "text/x-python",
   "name": "python",
   "nbconvert_exporter": "python",
   "pygments_lexer": "ipython3",
   "version": "3.12.4"
  }
 },
 "nbformat": 4,
 "nbformat_minor": 2
}
