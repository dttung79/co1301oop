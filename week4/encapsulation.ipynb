{
 "cells": [
  {
   "cell_type": "code",
   "execution_count": 1,
   "metadata": {},
   "outputs": [],
   "source": [
    "# Last week example\n",
    "class Pet:\n",
    "    def __init__(self, name, kind, age):\n",
    "        self.name = name\n",
    "        self.kind = kind\n",
    "        self.age = age\n",
    "\n",
    "    def show(self):\n",
    "        print(f'{self.kind}: {self.name} {self.age} years old.')"
   ]
  },
  {
   "cell_type": "code",
   "execution_count": 3,
   "metadata": {},
   "outputs": [
    {
     "name": "stdout",
     "output_type": "stream",
     "text": [
      ": adsfsdfsdfdsf -2 years old.\n"
     ]
    }
   ],
   "source": [
    "# create object of Pet class\n",
    "dog = Pet('Rex', 'dog', 3)\n",
    "# outside can access the object's attributes and do whatever they want\n",
    "dog.name = 'adsfsdfsdfdsf'\n",
    "dog.kind = ''\n",
    "dog.age = -2\n",
    "dog.show()"
   ]
  },
  {
   "cell_type": "code",
   "execution_count": 4,
   "metadata": {},
   "outputs": [],
   "source": [
    "# To protect the object's attributes, we can use private attributes\n",
    "class Pet:\n",
    "    def __init__(self, name, kind, age):\n",
    "        self.name = name    # public\n",
    "        self.kind = kind    # public\n",
    "        self.__age = age    # private"
   ]
  },
  {
   "cell_type": "code",
   "execution_count": null,
   "metadata": {},
   "outputs": [],
   "source": [
    "dog = Pet('Rex', 'dog', 3)\n",
    "print(dog.name)\n",
    "print(dog.kind)\n",
    "print(dog.__age)    # AttributeError: 'Pet' object has no attribute '__age'"
   ]
  },
  {
   "cell_type": "code",
   "execution_count": 7,
   "metadata": {},
   "outputs": [],
   "source": [
    "# To provide access to private attributes: getter and setter methods\n",
    "class Pet:\n",
    "    def __init__(self, name, kind, age):\n",
    "        self.name = name\n",
    "        self.kind = kind\n",
    "        self.__age = age\n",
    "    # getter method\n",
    "    def get_age(self):\n",
    "        return self.__age\n",
    "    # setter method with validation to control how the attribute is set\n",
    "    def set_age(self, age):\n",
    "        if age > 0:\n",
    "            self.__age = age\n",
    "        else:\n",
    "            print('Age must be greater than 0.')"
   ]
  },
  {
   "cell_type": "code",
   "execution_count": null,
   "metadata": {},
   "outputs": [],
   "source": [
    "dog = Pet('Rex', 'dog', 3)\n",
    "# change the name to anything\n",
    "dog.name = '' # invalid name\n",
    "dog.__age = -2 # cannot do it because __age is private\n",
    "print(dog.get_age()) # age is still 3\n",
    "dog.set_age(-2) # invalid age\n",
    "print(dog.get_age()) # age is still 3\n",
    "dog.set_age(5) # valid age\n",
    "print(dog.get_age())    # age is now 5\n",
    "dog.__age = 10 # cannot do it because __age is private\n",
    "print(dog.get_age())    # age is still 5"
   ]
  },
  {
   "cell_type": "code",
   "execution_count": 13,
   "metadata": {},
   "outputs": [],
   "source": [
    "# implement a Car class with following attributes, all are private, and provide getter and setter methods for each attribute:\n",
    "# - brand (string) must not be empty\n",
    "# - model (string) must not be empty\n",
    "# - mileage (int) must be greater than 0\n",
    "# implement show method to display the car's information\n",
    "class Car:\n",
    "    def __init__(self, brand, model, mileage):\n",
    "        self.set_brand(brand)\n",
    "        self.set_model(model)\n",
    "        self.set_mileage(mileage)\n",
    "    \n",
    "    def get_brand(self):\n",
    "        return self.__brand\n",
    "    \n",
    "    def set_brand(self, brand):\n",
    "        if brand == '':\n",
    "            print('Brand must not be empty.')\n",
    "            self.__brand = 'No brand'\n",
    "        else:\n",
    "            self.__brand = brand\n",
    "    \n",
    "    def get_model(self):\n",
    "        return self.__model\n",
    "    \n",
    "    def set_model(self, model):\n",
    "        if model == '':\n",
    "            print('Model must not be empty.')\n",
    "            self.__model = 'No model'\n",
    "        else:\n",
    "            self.__model = model\n",
    "    \n",
    "    def get_mileage(self):\n",
    "        return self.__mileage\n",
    "    \n",
    "    def set_mileage(self, mileage):\n",
    "        if mileage < 0:\n",
    "            print('Mileage must be greater than or equal to 0.')\n",
    "            self.__mileage = 0\n",
    "        else:\n",
    "            self.__mileage = mileage"
   ]
  },
  {
   "cell_type": "code",
   "execution_count": 14,
   "metadata": {},
   "outputs": [
    {
     "name": "stdout",
     "output_type": "stream",
     "text": [
      "Hyundai Kona 10000\n",
      "Mileage must be greater than or equal to 0.\n",
      "Hyundai Kona Electric 0\n"
     ]
    }
   ],
   "source": [
    "kona = Car('Hyundai', 'Kona', 10000)\n",
    "print(kona.get_brand(), kona.get_model(), kona.get_mileage())\n",
    "kona.set_model('Kona Electric') # valid model is set\n",
    "kona.set_mileage(-100)  # invalid mileage, mileage is changed to default value 0\n",
    "print(kona.get_brand(), kona.get_model(), kona.get_mileage())"
   ]
  },
  {
   "cell_type": "code",
   "execution_count": null,
   "metadata": {},
   "outputs": [],
   "source": [
    "# Implement class Student with following attributes:\n",
    "# - name (string) must not be empty\n",
    "# - birth_year (int): must make age in range [18, 30]\n",
    "# - gpa (float): must be in range [0.0, 10.0]\n",
    "# Implement show method to display the student's information\n",
    "class Student:\n",
    "    def __init__(self, name, birth_year, gpa):\n",
    "        self.set_name(name)\n",
    "        self.set_birth_year(birth_year)\n",
    "        self.set_gpa(gpa)\n",
    "    \n",
    "    def get_name(self):\n",
    "        return self.__name\n",
    "    \n",
    "    def set_name(self, name):\n",
    "        if name == '':\n",
    "            print('Name must not be empty.')\n",
    "            self.__name = 'No name'\n",
    "        else:\n",
    "            self.__name = name\n",
    "    \n",
    "    def get_birth_year(self):\n",
    "        return self.__birth_year\n",
    "    \n",
    "    def set_birth_year(self, birth_year):\n",
    "        current_year = 2024\n",
    "        if birth_year < current_year - 30 or birth_year > current_year - 18:\n",
    "            print('Birth year must make age in range [18, 30].')\n",
    "            self.__birth_year = current_year - 18\n",
    "        else:\n",
    "            self.__birth_year = birth_year\n",
    "\n",
    "    def get_gpa(self):\n",
    "        return self.__gpa\n",
    "    \n",
    "    def set_gpa(self, gpa):\n",
    "        if gpa < 0.0 or gpa > 10.0:\n",
    "            print('GPA must be in range [0.0, 10.0].')\n",
    "            self.__gpa = 0.0\n",
    "        else:\n",
    "            self.__gpa = gpa"
   ]
  }
 ],
 "metadata": {
  "kernelspec": {
   "display_name": "Python 3",
   "language": "python",
   "name": "python3"
  },
  "language_info": {
   "codemirror_mode": {
    "name": "ipython",
    "version": 3
   },
   "file_extension": ".py",
   "mimetype": "text/x-python",
   "name": "python",
   "nbconvert_exporter": "python",
   "pygments_lexer": "ipython3",
   "version": "3.12.4"
  }
 },
 "nbformat": 4,
 "nbformat_minor": 2
}
