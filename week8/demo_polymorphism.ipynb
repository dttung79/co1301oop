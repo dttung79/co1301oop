{
 "cells": [
  {
   "cell_type": "code",
   "execution_count": 11,
   "metadata": {},
   "outputs": [],
   "source": [
    "# Abstract class: A class that has at least 1 method that is not implemented\n",
    "from abc import ABC, abstractmethod\n",
    "class Parent(ABC):\n",
    "    @abstractmethod\n",
    "    def say_hi(self):\n",
    "        pass\n",
    "\n",
    "    def say_hello(self):\n",
    "        print(\"Hello\")"
   ]
  },
  {
   "cell_type": "code",
   "execution_count": null,
   "metadata": {},
   "outputs": [],
   "source": [
    "# Cannot create an object of an abstract class\n",
    "p = Parent() # TypeError: Can't instantiate abstract class Parent "
   ]
  },
  {
   "cell_type": "code",
   "execution_count": 12,
   "metadata": {},
   "outputs": [
    {
     "name": "stdout",
     "output_type": "stream",
     "text": [
      "Hi, I am a Child\n",
      "Hello\n"
     ]
    }
   ],
   "source": [
    "class Child(Parent):\n",
    "    # overriding the abstract method\n",
    "    def say_hi(self):\n",
    "        print(\"Hi, I am a Child\")\n",
    "\n",
    "c = Child() # This is fine because Child has implemented the abstract method\n",
    "c.say_hi()\n",
    "c.say_hello()"
   ]
  },
  {
   "cell_type": "code",
   "execution_count": null,
   "metadata": {},
   "outputs": [],
   "source": [
    "class AnotherChild(Parent):\n",
    "    def say_bye(self):\n",
    "        print(\"Bye\")\n",
    "# AnotherChild is still an abstract class because it has not implemented the abstract method\n",
    "# so we cannot create an object of it\n",
    "ac = AnotherChild() # TypeError: Can't instantiate abstract class AnotherChild with abstract methods say_hi"
   ]
  },
  {
   "cell_type": "code",
   "execution_count": 14,
   "metadata": {},
   "outputs": [
    {
     "name": "stdout",
     "output_type": "stream",
     "text": [
      "Hi, i am a GrandChild\n",
      "Bye\n",
      "Hello\n"
     ]
    }
   ],
   "source": [
    "class GrandChild(AnotherChild):\n",
    "    def say_hi(self):\n",
    "        print(\"Hi, i am a GrandChild\")\n",
    "\n",
    "gc = GrandChild()\n",
    "gc.say_hi()\n",
    "gc.say_bye()\n",
    "gc.say_hello()"
   ]
  },
  {
   "cell_type": "code",
   "execution_count": 15,
   "metadata": {},
   "outputs": [
    {
     "name": "stdout",
     "output_type": "stream",
     "text": [
      "Hi, I am a Child\n",
      "Hi, i am a GrandChild\n",
      "Hi, I am a Child\n",
      "Hi, i am a GrandChild\n"
     ]
    }
   ],
   "source": [
    "# Polymorphism: The ability to use the same interface for different data types\n",
    "c1 = Child()\n",
    "c2 = GrandChild()\n",
    "c3 = Child()\n",
    "c4 = GrandChild()\n",
    "decendants = [c1, c2, c3, c4]\n",
    "for c in decendants:\n",
    "    c.say_hi() # This will call the say_hi method of the respective class"
   ]
  }
 ],
 "metadata": {
  "kernelspec": {
   "display_name": "Python 3",
   "language": "python",
   "name": "python3"
  },
  "language_info": {
   "codemirror_mode": {
    "name": "ipython",
    "version": 3
   },
   "file_extension": ".py",
   "mimetype": "text/x-python",
   "name": "python",
   "nbconvert_exporter": "python",
   "pygments_lexer": "ipython3",
   "version": "3.12.4"
  }
 },
 "nbformat": 4,
 "nbformat_minor": 2
}
