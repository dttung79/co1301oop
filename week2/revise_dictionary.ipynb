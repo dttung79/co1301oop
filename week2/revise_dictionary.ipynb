{
 "cells": [
  {
   "cell_type": "code",
   "execution_count": 1,
   "metadata": {},
   "outputs": [
    {
     "name": "stdout",
     "output_type": "stream",
     "text": [
      "{'Alice': 25, 'Bob': 30}\n"
     ]
    }
   ],
   "source": [
    "# Create an empty dictionary\n",
    "names = {}\n",
    "# add a pair of key-value to the dictionary\n",
    "names['Alice'] = 25 # Alice is the key, 25 is the value\n",
    "# add another pair of key-value to the dictionary\n",
    "names['Bob'] = 30 # Bob is the key, 30 is the value\n",
    "print(names)"
   ]
  },
  {
   "cell_type": "code",
   "execution_count": 3,
   "metadata": {},
   "outputs": [
    {
     "name": "stdout",
     "output_type": "stream",
     "text": [
      "{'Alice': 26, 'Bob': 30}\n"
     ]
    }
   ],
   "source": [
    "# change value of a key\n",
    "names['Alice'] = 26 # if key exists, value is updated\n",
    "print(names)"
   ]
  },
  {
   "cell_type": "code",
   "execution_count": 4,
   "metadata": {},
   "outputs": [
    {
     "name": "stdout",
     "output_type": "stream",
     "text": [
      "{'Alice': 26}\n"
     ]
    }
   ],
   "source": [
    "# delete a key-value pair\n",
    "del names['Bob'] # remove the key-value pair with key 'Bob'\n",
    "print(names)"
   ]
  },
  {
   "cell_type": "code",
   "execution_count": 5,
   "metadata": {},
   "outputs": [
    {
     "name": "stdout",
     "output_type": "stream",
     "text": [
      "Alice 25\n",
      "Bob 30\n",
      "Charlie 35\n",
      "David 40\n"
     ]
    }
   ],
   "source": [
    "# browse the dictionary\n",
    "names = {'Alice': 25, 'Bob': 30, 'Charlie': 35, 'David': 40}\n",
    "for key in names:\n",
    "    print(key, names[key])"
   ]
  },
  {
   "cell_type": "code",
   "execution_count": 6,
   "metadata": {},
   "outputs": [
    {
     "name": "stdout",
     "output_type": "stream",
     "text": [
      "Alice 25\n",
      "Bob 30\n",
      "Charlie 35\n",
      "David 40\n"
     ]
    }
   ],
   "source": [
    "# another way to browse the dictionary\n",
    "for name, age in names.items():\n",
    "    print(name, age)"
   ]
  },
  {
   "cell_type": "code",
   "execution_count": 7,
   "metadata": {},
   "outputs": [
    {
     "name": "stdout",
     "output_type": "stream",
     "text": [
      "Alice is in the dictionary\n",
      "Eve is not in the dictionary\n"
     ]
    }
   ],
   "source": [
    "# check if a key exists\n",
    "if 'Alice' in names:\n",
    "    print('Alice is in the dictionary')\n",
    "if 'Eve' not in names:\n",
    "    print('Eve is not in the dictionary')"
   ]
  },
  {
   "cell_type": "code",
   "execution_count": 9,
   "metadata": {},
   "outputs": [
    {
     "name": "stdout",
     "output_type": "stream",
     "text": [
      "{1: ['Dragonball', 400, False], 2: ['Naruto', 200, False], 3: ['One Piece', 800, True]}\n",
      "Book name: Dragonball\n",
      "Price: $400\n",
      "Borrowed: False\n"
     ]
    }
   ],
   "source": [
    "# Value can be any type, not just int or str\n",
    "books = {1: ['Dragonball', 400, False], 2: ['Naruto', 200, False], 3: ['One Piece', 800, True]}\n",
    "print(books)\n",
    "# access items in a value\n",
    "print(f'Book name: {books[1][0]}')\n",
    "print(f'Price: ${books[1][1]}')\n",
    "print(f'Borrowed: {books[1][2]}')"
   ]
  },
  {
   "cell_type": "code",
   "execution_count": 11,
   "metadata": {},
   "outputs": [
    {
     "name": "stdout",
     "output_type": "stream",
     "text": [
      "{1: ['Dragonball', 400, False], 2: ['Naruto', 200, False], 3: ['One Piece', 800, True], 4: ['Death Note', 100, False]}\n",
      "['Death Note', 120, False]\n"
     ]
    }
   ],
   "source": [
    "new_book = 'Death Note'\n",
    "new_price = 100\n",
    "borrowed = False\n",
    "# add a new book to the dictionary\n",
    "books[4] = [new_book, new_price, borrowed]\n",
    "print(books)\n",
    "# change book price\n",
    "books[4][1] = 120\n",
    "print(books[4])"
   ]
  },
  {
   "cell_type": "code",
   "execution_count": 12,
   "metadata": {},
   "outputs": [
    {
     "name": "stdout",
     "output_type": "stream",
     "text": [
      "Book ID: 1\n",
      "Book name: Dragonball\n",
      "Price: $400\n",
      "Borrowed: False\n",
      "\n",
      "Book ID: 2\n",
      "Book name: Naruto\n",
      "Price: $200\n",
      "Borrowed: False\n",
      "\n",
      "Book ID: 3\n",
      "Book name: One Piece\n",
      "Price: $800\n",
      "Borrowed: True\n",
      "\n",
      "Book ID: 4\n",
      "Book name: Death Note\n",
      "Price: $120\n",
      "Borrowed: False\n",
      "\n"
     ]
    }
   ],
   "source": [
    "# print all books\n",
    "for book_id, book_info in books.items():\n",
    "    print(f'Book ID: {book_id}')\n",
    "    print(f'Book name: {book_info[0]}')\n",
    "    print(f'Price: ${book_info[1]}')\n",
    "    print(f'Borrowed: {book_info[2]}')\n",
    "    print()"
   ]
  }
 ],
 "metadata": {
  "kernelspec": {
   "display_name": "Python 3",
   "language": "python",
   "name": "python3"
  },
  "language_info": {
   "codemirror_mode": {
    "name": "ipython",
    "version": 3
   },
   "file_extension": ".py",
   "mimetype": "text/x-python",
   "name": "python",
   "nbconvert_exporter": "python",
   "pygments_lexer": "ipython3",
   "version": "3.12.4"
  }
 },
 "nbformat": 4,
 "nbformat_minor": 2
}
