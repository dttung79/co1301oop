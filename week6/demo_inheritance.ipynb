{
 "cells": [
  {
   "cell_type": "code",
   "execution_count": 1,
   "metadata": {},
   "outputs": [],
   "source": [
    "# Inheritance: when class B inherits from class A, it has EVERYTHING in class A\n",
    "class Person:\n",
    "    def __init__(self, name, age):\n",
    "        self.name = name\n",
    "        self.age = age\n",
    "    \n",
    "    def say_hello(self):\n",
    "        print(f'Hello, my name is {self.name} and I am {self.age} years old')"
   ]
  },
  {
   "cell_type": "code",
   "execution_count": 2,
   "metadata": {},
   "outputs": [
    {
     "name": "stdout",
     "output_type": "stream",
     "text": [
      "Hello, my name is Jack and I am 33 years old\n"
     ]
    }
   ],
   "source": [
    "p1 = Person('Jack', 33)\n",
    "p1.say_hello()"
   ]
  },
  {
   "cell_type": "code",
   "execution_count": null,
   "metadata": {},
   "outputs": [],
   "source": [
    "# Inheritance syntax: class B(A) - class B inherits from class A\n",
    "class Student(Person):\n",
    "    def __init__(self, name, age, grade):\n",
    "        super().__init__(name, age) # call the constructor of the parent class to initialize name and age\n",
    "        self.grade = grade          # init new attribute (grade)\n",
    "    \n",
    "    def say_hello(self):\n",
    "        super().say_hello()         # call the say_hello method of the parent class\n",
    "        print(f'My grade is: {self.grade}')"
   ]
  },
  {
   "cell_type": "code",
   "execution_count": 5,
   "metadata": {},
   "outputs": [
    {
     "name": "stdout",
     "output_type": "stream",
     "text": [
      "Hello, my name is John and I am 22 years old\n",
      "My grade is: 90\n",
      "John 22\n"
     ]
    }
   ],
   "source": [
    "s1 = Student('John', 22, 90)\n",
    "s1.say_hello()\n",
    "print(s1.name, s1.age)"
   ]
  },
  {
   "cell_type": "code",
   "execution_count": null,
   "metadata": {},
   "outputs": [],
   "source": [
    "# protection level in inheritance\n",
    "class Parent:\n",
    "    def __init__(self, name, age, gold):\n",
    "        self.name = name    # public attribute: can be accessed from outside the class\n",
    "        self._age = age     # protected attribute can be accessed from this class and its children\n",
    "        self.__gold = gold  # private attribute can only be accessed only from this class\n",
    "    \n",
    "    def info(self): # info is inside the class, so it can access all attributes\n",
    "        print(f'Name: {self.name}, Age: {self._age}, Gold: {self.__gold}')\n",
    "\n",
    "p = Parent('Jack', 33, 1000)\n",
    "p.info()\n",
    "print(p.name)\n",
    "print(p._age)   # should error but Python does not enforce protection levels\n",
    "print(p.__gold) # AttributeError: 'Parent' object has no attribute '__gold'"
   ]
  },
  {
   "cell_type": "code",
   "execution_count": null,
   "metadata": {},
   "outputs": [],
   "source": [
    "class Child(Parent):\n",
    "    def __init__(self, name, age, gold):\n",
    "        super().__init__(name, age, gold)\n",
    "\n",
    "    def get_gold(self):\n",
    "        return self.__gold  # AttributeError: 'Child' object has no attribute '__gold'\n",
    "c = Child('John', 22, 2000)\n",
    "c.info()\n",
    "print(c.name)\n",
    "print(c._age)\n",
    "print(c.get_gold()) # AttributeError: 'Child' object has no attribute '__gold'"
   ]
  },
  {
   "cell_type": "code",
   "execution_count": 13,
   "metadata": {},
   "outputs": [],
   "source": [
    "class Vehicle:\n",
    "    def __init__(self, velocity):\n",
    "        self.velocity = velocity    # use setter to validate velocity\n",
    "    \n",
    "    @property\n",
    "    def velocity(self):             # getter for velocity\n",
    "        return self.__velocity\n",
    "    \n",
    "    @velocity.setter        \n",
    "    def velocity(self, value):      # setter for velocity\n",
    "        if value < 0:\n",
    "            value = 1\n",
    "        self.__velocity = value\n",
    "\n",
    "    def move(self, kilometers):\n",
    "        t = kilometers / self.velocity\n",
    "        print(f'Move {kilometers} km in {t:.2f} hours')\n",
    "\n",
    "    def info(self):\n",
    "        print(f'Velocity: {self.velocity} km/h')"
   ]
  },
  {
   "cell_type": "code",
   "execution_count": 14,
   "metadata": {},
   "outputs": [],
   "source": [
    "class Car(Vehicle):\n",
    "    def __init__(self, velocity, model, price):\n",
    "        super().__init__(velocity)  # call parent constructor\n",
    "        self.model = model         # not public attribute, it calls setter to set value\n",
    "        self.price = price\n",
    "    \n",
    "    @property\n",
    "    def model(self):\n",
    "        return self.__model\n",
    "    \n",
    "    @model.setter\n",
    "    def model(self, value):\n",
    "        self.__model = value        # skip validation for now\n",
    "    \n",
    "    @property\n",
    "    def price(self):\n",
    "        return self.__price\n",
    "    \n",
    "    @price.setter\n",
    "    def price(self, value):\n",
    "        self.__price = value        # skip validation for now\n",
    "\n",
    "    def info(self):\n",
    "        print(f'Model: {self.model}, Price: {self.price}')\n",
    "        super().info()              # call parent info method to show velocity"
   ]
  },
  {
   "cell_type": "code",
   "execution_count": 15,
   "metadata": {},
   "outputs": [
    {
     "name": "stdout",
     "output_type": "stream",
     "text": [
      "Model: Civic, Price: 20000\n",
      "Velocity: 150 km/h\n",
      "Move 1000 km in 6.67 hours\n"
     ]
    }
   ],
   "source": [
    "honda_civic = Car(150, 'Civic', 20000)\n",
    "honda_civic.info()\n",
    "honda_civic.move(1000)"
   ]
  }
 ],
 "metadata": {
  "kernelspec": {
   "display_name": "Python 3",
   "language": "python",
   "name": "python3"
  },
  "language_info": {
   "codemirror_mode": {
    "name": "ipython",
    "version": 3
   },
   "file_extension": ".py",
   "mimetype": "text/x-python",
   "name": "python",
   "nbconvert_exporter": "python",
   "pygments_lexer": "ipython3",
   "version": "3.12.4"
  }
 },
 "nbformat": 4,
 "nbformat_minor": 2
}
